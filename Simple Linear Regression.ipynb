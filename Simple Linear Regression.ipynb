{
 "cells": [
  {
   "cell_type": "code",
   "execution_count": 3,
   "id": "768a984c-71bc-4767-a178-582b60c56a76",
   "metadata": {},
   "outputs": [],
   "source": [
    "import requests\n",
    "from io import StringIO\n",
    "import pandas as pd\n",
    "import numpy as np\n",
    "import matplotlib.pyplot as plt\n",
    "%matplotlib inline\n",
    "import seaborn as sns\n",
    "sns.set()\n",
    "\n",
    "from sklearn.model_selection import train_test_split\n",
    "from sklearn.linear_model import LinearRegression\n",
    "from sklearn.metrics import mean_absolute_error,mean_squared_error,r2_score"
   ]
  },
  {
   "cell_type": "code",
   "execution_count": 4,
   "id": "028ecf7d-5606-41f2-8d38-3e5b21764bdc",
   "metadata": {},
   "outputs": [],
   "source": [
    "#fetching the dataset\n",
    "url = 'https://raw.githubusercontent.com/campusx-official/100-days-of-machine-learning/main/day49-regression-metrics/placement.csv'\n",
    "req = requests.get(url)\n",
    "data = StringIO(req.text)"
   ]
  },
  {
   "cell_type": "code",
   "execution_count": 5,
   "id": "7c4b81d8-11e7-428c-8cf0-1eb2918118fe",
   "metadata": {},
   "outputs": [
    {
     "data": {
      "text/html": [
       "<div>\n",
       "<style scoped>\n",
       "    .dataframe tbody tr th:only-of-type {\n",
       "        vertical-align: middle;\n",
       "    }\n",
       "\n",
       "    .dataframe tbody tr th {\n",
       "        vertical-align: top;\n",
       "    }\n",
       "\n",
       "    .dataframe thead th {\n",
       "        text-align: right;\n",
       "    }\n",
       "</style>\n",
       "<table border=\"1\" class=\"dataframe\">\n",
       "  <thead>\n",
       "    <tr style=\"text-align: right;\">\n",
       "      <th></th>\n",
       "      <th>cgpa</th>\n",
       "      <th>package</th>\n",
       "    </tr>\n",
       "  </thead>\n",
       "  <tbody>\n",
       "    <tr>\n",
       "      <th>0</th>\n",
       "      <td>6.89</td>\n",
       "      <td>3.26</td>\n",
       "    </tr>\n",
       "    <tr>\n",
       "      <th>1</th>\n",
       "      <td>5.12</td>\n",
       "      <td>1.98</td>\n",
       "    </tr>\n",
       "    <tr>\n",
       "      <th>2</th>\n",
       "      <td>7.82</td>\n",
       "      <td>3.25</td>\n",
       "    </tr>\n",
       "    <tr>\n",
       "      <th>3</th>\n",
       "      <td>7.42</td>\n",
       "      <td>3.67</td>\n",
       "    </tr>\n",
       "    <tr>\n",
       "      <th>4</th>\n",
       "      <td>6.94</td>\n",
       "      <td>3.57</td>\n",
       "    </tr>\n",
       "    <tr>\n",
       "      <th>...</th>\n",
       "      <td>...</td>\n",
       "      <td>...</td>\n",
       "    </tr>\n",
       "    <tr>\n",
       "      <th>195</th>\n",
       "      <td>6.93</td>\n",
       "      <td>2.46</td>\n",
       "    </tr>\n",
       "    <tr>\n",
       "      <th>196</th>\n",
       "      <td>5.89</td>\n",
       "      <td>2.57</td>\n",
       "    </tr>\n",
       "    <tr>\n",
       "      <th>197</th>\n",
       "      <td>7.21</td>\n",
       "      <td>3.24</td>\n",
       "    </tr>\n",
       "    <tr>\n",
       "      <th>198</th>\n",
       "      <td>7.63</td>\n",
       "      <td>3.96</td>\n",
       "    </tr>\n",
       "    <tr>\n",
       "      <th>199</th>\n",
       "      <td>6.22</td>\n",
       "      <td>2.33</td>\n",
       "    </tr>\n",
       "  </tbody>\n",
       "</table>\n",
       "<p>200 rows × 2 columns</p>\n",
       "</div>"
      ],
      "text/plain": [
       "     cgpa  package\n",
       "0    6.89     3.26\n",
       "1    5.12     1.98\n",
       "2    7.82     3.25\n",
       "3    7.42     3.67\n",
       "4    6.94     3.57\n",
       "..    ...      ...\n",
       "195  6.93     2.46\n",
       "196  5.89     2.57\n",
       "197  7.21     3.24\n",
       "198  7.63     3.96\n",
       "199  6.22     2.33\n",
       "\n",
       "[200 rows x 2 columns]"
      ]
     },
     "execution_count": 5,
     "metadata": {},
     "output_type": "execute_result"
    }
   ],
   "source": [
    "df = pd.read_csv(data)\n",
    "df"
   ]
  },
  {
   "cell_type": "code",
   "execution_count": 6,
   "id": "a66bd48e-61a4-4bb6-95a9-06449120d12b",
   "metadata": {},
   "outputs": [],
   "source": [
    "df.to_csv('placements.csv' , index=False)"
   ]
  },
  {
   "cell_type": "markdown",
   "id": "8b923704-ff12-45f5-8485-1f0ed016186a",
   "metadata": {},
   "source": [
    "## Loading Dataset"
   ]
  },
  {
   "cell_type": "code",
   "execution_count": 8,
   "id": "3d0ae2e6-4c51-4e26-b60a-372036d14d7a",
   "metadata": {},
   "outputs": [
    {
     "data": {
      "text/html": [
       "<div>\n",
       "<style scoped>\n",
       "    .dataframe tbody tr th:only-of-type {\n",
       "        vertical-align: middle;\n",
       "    }\n",
       "\n",
       "    .dataframe tbody tr th {\n",
       "        vertical-align: top;\n",
       "    }\n",
       "\n",
       "    .dataframe thead th {\n",
       "        text-align: right;\n",
       "    }\n",
       "</style>\n",
       "<table border=\"1\" class=\"dataframe\">\n",
       "  <thead>\n",
       "    <tr style=\"text-align: right;\">\n",
       "      <th></th>\n",
       "      <th>cgpa</th>\n",
       "      <th>package</th>\n",
       "    </tr>\n",
       "  </thead>\n",
       "  <tbody>\n",
       "    <tr>\n",
       "      <th>0</th>\n",
       "      <td>6.89</td>\n",
       "      <td>3.26</td>\n",
       "    </tr>\n",
       "    <tr>\n",
       "      <th>1</th>\n",
       "      <td>5.12</td>\n",
       "      <td>1.98</td>\n",
       "    </tr>\n",
       "    <tr>\n",
       "      <th>2</th>\n",
       "      <td>7.82</td>\n",
       "      <td>3.25</td>\n",
       "    </tr>\n",
       "    <tr>\n",
       "      <th>3</th>\n",
       "      <td>7.42</td>\n",
       "      <td>3.67</td>\n",
       "    </tr>\n",
       "    <tr>\n",
       "      <th>4</th>\n",
       "      <td>6.94</td>\n",
       "      <td>3.57</td>\n",
       "    </tr>\n",
       "  </tbody>\n",
       "</table>\n",
       "</div>"
      ],
      "text/plain": [
       "   cgpa  package\n",
       "0  6.89     3.26\n",
       "1  5.12     1.98\n",
       "2  7.82     3.25\n",
       "3  7.42     3.67\n",
       "4  6.94     3.57"
      ]
     },
     "execution_count": 8,
     "metadata": {},
     "output_type": "execute_result"
    }
   ],
   "source": [
    "data = pd.read_csv('placements.csv')\n",
    "data.head()"
   ]
  },
  {
   "cell_type": "code",
   "execution_count": 9,
   "id": "6c23a496-4fab-4e22-932c-e20d28669348",
   "metadata": {},
   "outputs": [
    {
     "data": {
      "text/plain": [
       "(200, 2)"
      ]
     },
     "execution_count": 9,
     "metadata": {},
     "output_type": "execute_result"
    }
   ],
   "source": [
    "data.shape"
   ]
  },
  {
   "cell_type": "markdown",
   "id": "da2b02dd-76d8-4273-b66c-030866ebdc17",
   "metadata": {},
   "source": [
    "### Simple linear regression is a statistical method used to model the relationship between two variables: one independent variable (often denoted as \"x\") and one dependent variable (often denoted as \"y\"). In your example, the independent variable \"x\" could be the CGPA (Cumulative Grade Point Average), and the dependent variable \"y\" could be another metric, such as job placement rate.\n",
    "\n",
    "- The equation you've provided, __y = mx + b__, represents the relationship between these variables:\n",
    "\n",
    "      - y represents the dependent variable (output feature), which is what you're trying to predict or explain.\n",
    "      - x represents the independent variable (input feature), which is the predictor or explanatory variable.\n",
    "      - m represents the slope of the line, which indicates the degree and direction of the relationship between x and y. In other words, it shows how much y changes for a one-unit change in x.\n",
    "      - b represents the intercept of the line, which is the value of y when x is zero. It's the point where the line intersects the y-axis.\n",
    "\n",
    "- The goal of simple linear regression is to find the best-fitting line through the data points that minimizes the difference between the observed values of y and the values predicted by the line. This line allows us to make predictions about the dependent variable (y) based on the values of the independent variable (x).\n",
    "\n",
    "- In the context of your placement dataset, you might use simple linear regression to understand how CGPA (independent variable) influences job placement rate (dependent variable). By fitting a line to the data points representing CGPA and job placement rate, you can determine the strength and direction of this relationship and make predictions about job placement rates for different CGPA values.\n"
   ]
  },
  {
   "cell_type": "code",
   "execution_count": 10,
   "id": "9252d79c-c5a1-432c-94cc-905968971d35",
   "metadata": {},
   "outputs": [
    {
     "data": {
      "image/png": "[encoded data removed]",
      "text/plain": [
       "<Figure size 640x480 with 1 Axes>"
      ]
     },
     "metadata": {},
     "output_type": "display_data"
    }
   ],
   "source": [
    "sns.scatterplot(x=data['cgpa'] , y= data['package'])\n",
    "plt.title('Simple Linear Regression Data points Plot')\n",
    "plt.xlabel('CGPA')\n",
    "plt.ylabel('Package');"
   ]
  },
  {
   "cell_type": "code",
   "execution_count": 13,
   "id": "5b67431d-2298-4454-8748-9c726dabc3a3",
   "metadata": {},
   "outputs": [],
   "source": [
    "X = data.drop(['package'] , axis=1)\n",
    "y = data['package']"
   ]
  },
  {
   "cell_type": "code",
   "execution_count": 14,
   "id": "29b76821-0432-450f-a95a-e2ca02afb4ef",
   "metadata": {},
   "outputs": [
    {
     "data": {
      "text/html": [
       "<div>\n",
       "<style scoped>\n",
       "    .dataframe tbody tr th:only-of-type {\n",
       "        vertical-align: middle;\n",
       "    }\n",
       "\n",
       "    .dataframe tbody tr th {\n",
       "        vertical-align: top;\n",
       "    }\n",
       "\n",
       "    .dataframe thead th {\n",
       "        text-align: right;\n",
       "    }\n",
       "</style>\n",
       "<table border=\"1\" class=\"dataframe\">\n",
       "  <thead>\n",
       "    <tr style=\"text-align: right;\">\n",
       "      <th></th>\n",
       "      <th>cgpa</th>\n",
       "    </tr>\n",
       "  </thead>\n",
       "  <tbody>\n",
       "    <tr>\n",
       "      <th>0</th>\n",
       "      <td>6.89</td>\n",
       "    </tr>\n",
       "    <tr>\n",
       "      <th>1</th>\n",
       "      <td>5.12</td>\n",
       "    </tr>\n",
       "    <tr>\n",
       "      <th>2</th>\n",
       "      <td>7.82</td>\n",
       "    </tr>\n",
       "    <tr>\n",
       "      <th>3</th>\n",
       "      <td>7.42</td>\n",
       "    </tr>\n",
       "    <tr>\n",
       "      <th>4</th>\n",
       "      <td>6.94</td>\n",
       "    </tr>\n",
       "    <tr>\n",
       "      <th>...</th>\n",
       "      <td>...</td>\n",
       "    </tr>\n",
       "    <tr>\n",
       "      <th>195</th>\n",
       "      <td>6.93</td>\n",
       "    </tr>\n",
       "    <tr>\n",
       "      <th>196</th>\n",
       "      <td>5.89</td>\n",
       "    </tr>\n",
       "    <tr>\n",
       "      <th>197</th>\n",
       "      <td>7.21</td>\n",
       "    </tr>\n",
       "    <tr>\n",
       "      <th>198</th>\n",
       "      <td>7.63</td>\n",
       "    </tr>\n",
       "    <tr>\n",
       "      <th>199</th>\n",
       "      <td>6.22</td>\n",
       "    </tr>\n",
       "  </tbody>\n",
       "</table>\n",
       "<p>200 rows × 1 columns</p>\n",
       "</div>"
      ],
      "text/plain": [
       "     cgpa\n",
       "0    6.89\n",
       "1    5.12\n",
       "2    7.82\n",
       "3    7.42\n",
       "4    6.94\n",
       "..    ...\n",
       "195  6.93\n",
       "196  5.89\n",
       "197  7.21\n",
       "198  7.63\n",
       "199  6.22\n",
       "\n",
       "[200 rows x 1 columns]"
      ]
     },
     "execution_count": 14,
     "metadata": {},
     "output_type": "execute_result"
    }
   ],
   "source": [
    "X"
   ]
  },
  {
   "cell_type": "code",
   "execution_count": 15,
   "id": "0140695a-72c8-4bfd-9a82-540484d5334d",
   "metadata": {},
   "outputs": [
    {
     "data": {
      "text/plain": [
       "0      3.26\n",
       "1      1.98\n",
       "2      3.25\n",
       "3      3.67\n",
       "4      3.57\n",
       "       ... \n",
       "195    2.46\n",
       "196    2.57\n",
       "197    3.24\n",
       "198    3.96\n",
       "199    2.33\n",
       "Name: package, Length: 200, dtype: float64"
      ]
     },
     "execution_count": 15,
     "metadata": {},
     "output_type": "execute_result"
    }
   ],
   "source": [
    "y"
   ]
  },
  {
   "cell_type": "code",
   "execution_count": 16,
   "id": "92a673ca-680b-416d-8e0e-4fc56be21512",
   "metadata": {},
   "outputs": [],
   "source": [
    "from sklearn.model_selection import train_test_split\n",
    "\n",
    "X_train , X_test , y_train , y_test = train_test_split(X,y , test_size=0.2 , random_state=22)"
   ]
  },
  {
   "cell_type": "code",
   "execution_count": 17,
   "id": "7218ea89-2063-4f85-aee4-eb0323e009b1",
   "metadata": {},
   "outputs": [
    {
     "data": {
      "text/html": [
       "<div>\n",
       "<style scoped>\n",
       "    .dataframe tbody tr th:only-of-type {\n",
       "        vertical-align: middle;\n",
       "    }\n",
       "\n",
       "    .dataframe tbody tr th {\n",
       "        vertical-align: top;\n",
       "    }\n",
       "\n",
       "    .dataframe thead th {\n",
       "        text-align: right;\n",
       "    }\n",
       "</style>\n",
       "<table border=\"1\" class=\"dataframe\">\n",
       "  <thead>\n",
       "    <tr style=\"text-align: right;\">\n",
       "      <th></th>\n",
       "      <th>cgpa</th>\n",
       "    </tr>\n",
       "  </thead>\n",
       "  <tbody>\n",
       "    <tr>\n",
       "      <th>61</th>\n",
       "      <td>5.48</td>\n",
       "    </tr>\n",
       "    <tr>\n",
       "      <th>151</th>\n",
       "      <td>6.12</td>\n",
       "    </tr>\n",
       "    <tr>\n",
       "      <th>31</th>\n",
       "      <td>8.10</td>\n",
       "    </tr>\n",
       "    <tr>\n",
       "      <th>150</th>\n",
       "      <td>6.30</td>\n",
       "    </tr>\n",
       "    <tr>\n",
       "      <th>148</th>\n",
       "      <td>7.57</td>\n",
       "    </tr>\n",
       "    <tr>\n",
       "      <th>...</th>\n",
       "      <td>...</td>\n",
       "    </tr>\n",
       "    <tr>\n",
       "      <th>100</th>\n",
       "      <td>7.95</td>\n",
       "    </tr>\n",
       "    <tr>\n",
       "      <th>192</th>\n",
       "      <td>8.25</td>\n",
       "    </tr>\n",
       "    <tr>\n",
       "      <th>44</th>\n",
       "      <td>5.09</td>\n",
       "    </tr>\n",
       "    <tr>\n",
       "      <th>132</th>\n",
       "      <td>5.84</td>\n",
       "    </tr>\n",
       "    <tr>\n",
       "      <th>117</th>\n",
       "      <td>7.12</td>\n",
       "    </tr>\n",
       "  </tbody>\n",
       "</table>\n",
       "<p>160 rows × 1 columns</p>\n",
       "</div>"
      ],
      "text/plain": [
       "     cgpa\n",
       "61   5.48\n",
       "151  6.12\n",
       "31   8.10\n",
       "150  6.30\n",
       "148  7.57\n",
       "..    ...\n",
       "100  7.95\n",
       "192  8.25\n",
       "44   5.09\n",
       "132  5.84\n",
       "117  7.12\n",
       "\n",
       "[160 rows x 1 columns]"
      ]
     },
     "execution_count": 17,
     "metadata": {},
     "output_type": "execute_result"
    }
   ],
   "source": [
    "X_train"
   ]
  },
  {
   "cell_type": "code",
   "execution_count": 21,
   "id": "ddc6f4b3-a8c1-477f-8a26-93b68d288d8a",
   "metadata": {},
   "outputs": [
    {
     "data": {
      "text/plain": [
       "61     1.61\n",
       "151    2.76\n",
       "31     3.89\n",
       "150    2.73\n",
       "148    3.40\n",
       "       ... \n",
       "100    4.14\n",
       "192    3.75\n",
       "44     1.86\n",
       "132    2.48\n",
       "117    2.99\n",
       "Name: package, Length: 160, dtype: float64"
      ]
     },
     "execution_count": 21,
     "metadata": {},
     "output_type": "execute_result"
    }
   ],
   "source": [
    "y_train"
   ]
  },
  {
   "cell_type": "code",
   "execution_count": 22,
   "id": "19f9af6e-c3a5-4c9d-aca0-bc6b4800941a",
   "metadata": {},
   "outputs": [],
   "source": [
    "lr = LinearRegression()"
   ]
  },
  {
   "cell_type": "code",
   "execution_count": 23,
   "id": "ba395e01-f98c-4a64-bb72-959c61746e33",
   "metadata": {},
   "outputs": [
    {
     "data": {
      "text/html": [
       "<style>#sk-container-id-1 {color: black;background-color: white;}#sk-container-id-1 pre{padding: 0;}#sk-container-id-1 div.sk-toggleable {background-color: white;}#sk-container-id-1 label.sk-toggleable__label {cursor: pointer;display: block;width: 100%;margin-bottom: 0;padding: 0.3em;box-sizing: border-box;text-align: center;}#sk-container-id-1 label.sk-toggleable__label-arrow:before {content: \"▸\";float: left;margin-right: 0.25em;color: #696969;}#sk-container-id-1 label.sk-toggleable__label-arrow:hover:before {color: black;}#sk-container-id-1 div.sk-estimator:hover label.sk-toggleable__label-arrow:before {color: black;}#sk-container-id-1 div.sk-toggleable__content {max-height: 0;max-width: 0;overflow: hidden;text-align: left;background-color: #f0f8ff;}#sk-container-id-1 div.sk-toggleable__content pre {margin: 0.2em;color: black;border-radius: 0.25em;background-color: #f0f8ff;}#sk-container-id-1 input.sk-toggleable__control:checked~div.sk-toggleable__content {max-height: 200px;max-width: 100%;overflow: auto;}#sk-container-id-1 input.sk-toggleable__control:checked~label.sk-toggleable__label-arrow:before {content: \"▾\";}#sk-container-id-1 div.sk-estimator input.sk-toggleable__control:checked~label.sk-toggleable__label {background-color: #d4ebff;}#sk-container-id-1 div.sk-label input.sk-toggleable__control:checked~label.sk-toggleable__label {background-color: #d4ebff;}#sk-container-id-1 input.sk-hidden--visually {border: 0;clip: rect(1px 1px 1px 1px);clip: rect(1px, 1px, 1px, 1px);height: 1px;margin: -1px;overflow: hidden;padding: 0;position: absolute;width: 1px;}#sk-container-id-1 div.sk-estimator {font-family: monospace;background-color: #f0f8ff;border: 1px dotted black;border-radius: 0.25em;box-sizing: border-box;margin-bottom: 0.5em;}#sk-container-id-1 div.sk-estimator:hover {background-color: #d4ebff;}#sk-container-id-1 div.sk-parallel-item::after {content: \"\";width: 100%;border-bottom: 1px solid gray;flex-grow: 1;}#sk-container-id-1 div.sk-label:hover label.sk-toggleable__label {background-color: #d4ebff;}#sk-container-id-1 div.sk-serial::before {content: \"\";position: absolute;border-left: 1px solid gray;box-sizing: border-box;top: 0;bottom: 0;left: 50%;z-index: 0;}#sk-container-id-1 div.sk-serial {display: flex;flex-direction: column;align-items: center;background-color: white;padding-right: 0.2em;padding-left: 0.2em;position: relative;}#sk-container-id-1 div.sk-item {position: relative;z-index: 1;}#sk-container-id-1 div.sk-parallel {display: flex;align-items: stretch;justify-content: center;background-color: white;position: relative;}#sk-container-id-1 div.sk-item::before, #sk-container-id-1 div.sk-parallel-item::before {content: \"\";position: absolute;border-left: 1px solid gray;box-sizing: border-box;top: 0;bottom: 0;left: 50%;z-index: -1;}#sk-container-id-1 div.sk-parallel-item {display: flex;flex-direction: column;z-index: 1;position: relative;background-color: white;}#sk-container-id-1 div.sk-parallel-item:first-child::after {align-self: flex-end;width: 50%;}#sk-container-id-1 div.sk-parallel-item:last-child::after {align-self: flex-start;width: 50%;}#sk-container-id-1 div.sk-parallel-item:only-child::after {width: 0;}#sk-container-id-1 div.sk-dashed-wrapped {border: 1px dashed gray;margin: 0 0.4em 0.5em 0.4em;box-sizing: border-box;padding-bottom: 0.4em;background-color: white;}#sk-container-id-1 div.sk-label label {font-family: monospace;font-weight: bold;display: inline-block;line-height: 1.2em;}#sk-container-id-1 div.sk-label-container {text-align: center;}#sk-container-id-1 div.sk-container {/* jupyter's `normalize.less` sets `[hidden] { display: none; }` but bootstrap.min.css set `[hidden] { display: none !important; }` so we also need the `!important` here to be able to override the default hidden behavior on the sphinx rendered scikit-learn.org. See: https://github.com/scikit-learn/scikit-learn/issues/21755 */display: inline-block !important;position: relative;}#sk-container-id-1 div.sk-text-repr-fallback {display: none;}</style><div id=\"sk-container-id-1\" class=\"sk-top-container\"><div class=\"sk-text-repr-fallback\"><pre>LinearRegression()</pre><b>In a Jupyter environment, please rerun this cell to show the HTML representation or trust the notebook. <br />On GitHub, the HTML representation is unable to render, please try loading this page with nbviewer.org.</b></div><div class=\"sk-container\" hidden><div class=\"sk-item\"><div class=\"sk-estimator sk-toggleable\"><input class=\"sk-toggleable__control sk-hidden--visually\" id=\"sk-estimator-id-1\" type=\"checkbox\" checked><label for=\"sk-estimator-id-1\" class=\"sk-toggleable__label sk-toggleable__label-arrow\">LinearRegression</label><div class=\"sk-toggleable__content\"><pre>LinearRegression()</pre></div></div></div></div></div>"
      ],
      "text/plain": [
       "LinearRegression()"
      ]
     },
     "execution_count": 23,
     "metadata": {},
     "output_type": "execute_result"
    }
   ],
   "source": [
    "lr.fit(X_train , y_train)"
   ]
  },
  {
   "cell_type": "code",
   "execution_count": 25,
   "id": "8cdfa252-4e4a-4508-95de-c2e2cdc73ff7",
   "metadata": {},
   "outputs": [
    {
     "data": {
      "text/html": [
       "<div>\n",
       "<style scoped>\n",
       "    .dataframe tbody tr th:only-of-type {\n",
       "        vertical-align: middle;\n",
       "    }\n",
       "\n",
       "    .dataframe tbody tr th {\n",
       "        vertical-align: top;\n",
       "    }\n",
       "\n",
       "    .dataframe thead th {\n",
       "        text-align: right;\n",
       "    }\n",
       "</style>\n",
       "<table border=\"1\" class=\"dataframe\">\n",
       "  <thead>\n",
       "    <tr style=\"text-align: right;\">\n",
       "      <th></th>\n",
       "      <th>cgpa</th>\n",
       "    </tr>\n",
       "  </thead>\n",
       "  <tbody>\n",
       "    <tr>\n",
       "      <th>144</th>\n",
       "      <td>6.17</td>\n",
       "    </tr>\n",
       "    <tr>\n",
       "      <th>157</th>\n",
       "      <td>6.47</td>\n",
       "    </tr>\n",
       "  </tbody>\n",
       "</table>\n",
       "</div>"
      ],
      "text/plain": [
       "     cgpa\n",
       "144  6.17\n",
       "157  6.47"
      ]
     },
     "execution_count": 25,
     "metadata": {},
     "output_type": "execute_result"
    }
   ],
   "source": [
    "X_test.head(2)"
   ]
  },
  {
   "cell_type": "code",
   "execution_count": 26,
   "id": "1741be5c-9c6a-4fa0-83b1-b28909668866",
   "metadata": {},
   "outputs": [
    {
     "data": {
      "text/plain": [
       "144    2.42\n",
       "157    2.70\n",
       "Name: package, dtype: float64"
      ]
     },
     "execution_count": 26,
     "metadata": {},
     "output_type": "execute_result"
    }
   ],
   "source": [
    "y_test.head(2)"
   ]
  },
  {
   "cell_type": "code",
   "execution_count": 30,
   "id": "36a034fb-7659-442f-b1bc-4a391417a922",
   "metadata": {},
   "outputs": [
    {
     "data": {
      "text/plain": [
       "array([2.51244623])"
      ]
     },
     "execution_count": 30,
     "metadata": {},
     "output_type": "execute_result"
    }
   ],
   "source": [
    "#In this i have checked the prediction of first xtest cgpa value of 6.17 by which package is of in data is 2.42\n",
    "#And its showing in prediction 2.51(close)\n",
    "\n",
    "import warnings\n",
    "warnings.filterwarnings('ignore')\n",
    "\n",
    "lr.predict(X_test.iloc[0].values.reshape(1,1))"
   ]
  },
  {
   "cell_type": "code",
   "execution_count": 31,
   "id": "9dda8456-5c67-4eb4-9484-355b1d4d62d7",
   "metadata": {},
   "outputs": [
    {
     "data": {
      "image/png": "[encoded data removed]",
      "text/plain": [
       "<Figure size 640x480 with 1 Axes>"
      ]
     },
     "metadata": {},
     "output_type": "display_data"
    }
   ],
   "source": [
    "sns.scatterplot(x=data['cgpa'] , y=data['package'])\n",
    "plt.plot(X_train, lr.predict(X_train), color='red')\n",
    "plt.xlabel('CGPA')\n",
    "plt.ylabel('Package(in lpa)');"
   ]
  },
  {
   "cell_type": "markdown",
   "id": "1df05e51-2927-47a2-ad88-9472614b6158",
   "metadata": {},
   "source": [
    "### This graphs showing the best fitted line for package "
   ]
  },
  {
   "cell_type": "code",
   "execution_count": 32,
   "id": "f40aaa1f-f857-4dec-97c0-d7078a527d05",
   "metadata": {},
   "outputs": [
    {
     "data": {
      "text/plain": [
       "array([0.56501274])"
      ]
     },
     "execution_count": 32,
     "metadata": {},
     "output_type": "execute_result"
    }
   ],
   "source": [
    "#Now to calculate y= mx + b\n",
    "\n",
    "#for m \n",
    "m = lr.coef_\n",
    "m"
   ]
  },
  {
   "cell_type": "code",
   "execution_count": 33,
   "id": "5fe82cd0-d773-4122-ba86-f13e0a22984e",
   "metadata": {},
   "outputs": [
    {
     "data": {
      "text/plain": [
       "-0.9736823668217265"
      ]
     },
     "execution_count": 33,
     "metadata": {},
     "output_type": "execute_result"
    }
   ],
   "source": [
    "#for b\n",
    "b = lr.intercept_\n",
    "b"
   ]
  },
  {
   "cell_type": "code",
   "execution_count": 34,
   "id": "99e2be52-8bba-473e-bc06-bf5ce673af83",
   "metadata": {},
   "outputs": [
    {
     "name": "stdout",
     "output_type": "stream",
     "text": [
      "[2.51244623]\n"
     ]
    }
   ],
   "source": [
    "#now applying this formula for checking prediction\n",
    "y = m * 6.17 + b\n",
    "print(y)"
   ]
  },
  {
   "cell_type": "code",
   "execution_count": 35,
   "id": "c2726a5a-0034-4bb9-9902-0c68a9bf7332",
   "metadata": {},
   "outputs": [
    {
     "data": {
      "text/plain": [
       "array([2.51244623])"
      ]
     },
     "execution_count": 35,
     "metadata": {},
     "output_type": "execute_result"
    }
   ],
   "source": [
    "lr.predict(X_test.iloc[0].values.reshape(1,1))"
   ]
  },
  {
   "cell_type": "markdown",
   "id": "f05b6978-d195-4196-8c91-3aee68626691",
   "metadata": {},
   "source": [
    "### Now checking Metrics for this MAE , MSE , RMSE , R2_SCORE , ADJUSTED R2_SCORE"
   ]
  },
  {
   "cell_type": "code",
   "execution_count": 37,
   "id": "c7d2693e-f859-49b1-8adb-6e6a4f18147e",
   "metadata": {},
   "outputs": [
    {
     "name": "stdout",
     "output_type": "stream",
     "text": [
      "MAE(Mean Absolute Error)  0.2650980270523437\n"
     ]
    }
   ],
   "source": [
    "#MAE - Mean Absolute error\n",
    "y_pred = lr.predict(X_test)\n",
    "print('MAE(Mean Absolute Error) ' , mean_absolute_error(y_test , y_pred))"
   ]
  },
  {
   "cell_type": "markdown",
   "id": "f184e275-139c-4a97-a069-e6b3f619d598",
   "metadata": {},
   "source": [
    "- __The Mean Absolute Error (MAE) is a metric used to evaluate how well a regression model (like the one you've trained) performs at predicting the target variable (in this case, job placement rate) on unseen data. Here's a simple explanation:__\n",
    "\n",
    "- Imagine you have a bunch of predictions for job placement rates based on your model, and you want to see how close these predictions are to the actual job placement rates. The MAE gives you an average of how much your predictions differ from the actual values, taking into account only the magnitude of these differences, regardless of whether they are overestimates or underestimates.\n",
    "\n",
    "- __So, if your MAE is 0.27, it means that, on average, your model's predictions are off by about 0.27 units from the actual job placement rates. The lower the MAE, the better your model is at making accurate predictions.__\n",
    "\n",
    "- In summary, MAE is a measure of the average magnitude of errors between predicted and actual values, providing a straightforward assessment of how well your model performs.\n"
   ]
  },
  {
   "cell_type": "markdown",
   "id": "f1a1b80c-b416-4dcc-897d-58cca488bc7c",
   "metadata": {},
   "source": [
    "### QUES - IS MAE is also known as Loss Function?"
   ]
  },
  {
   "cell_type": "markdown",
   "id": "871ac2fb-4e44-4dd3-a05e-30af399ae0ab",
   "metadata": {},
   "source": [
    "- Yes, the term __\"loss function\"__ is often used interchangeably with the term __\"error function\"__ or __\"cost function\"__ in the context of regression. The MAE is indeed a type of loss function used to measure the difference between predicted and actual values in regression tasks. The goal is typically to minimize this loss function when training the model.\n"
   ]
  },
  {
   "cell_type": "code",
   "execution_count": 38,
   "id": "402b78d4-7169-4eb0-9aeb-bcaea6ed6ceb",
   "metadata": {},
   "outputs": [
    {
     "name": "stdout",
     "output_type": "stream",
     "text": [
      "MSE(Mean Squared Error)  0.10186655845113166\n"
     ]
    }
   ],
   "source": [
    "#MSE - Mean Squared Error\n",
    "\n",
    "print('MSE(Mean Squared Error) ', mean_squared_error(y_test , y_pred))"
   ]
  },
  {
   "cell_type": "code",
   "execution_count": 39,
   "id": "7bda0128-d3ac-44c5-8ba9-e26a985e53a3",
   "metadata": {},
   "outputs": [
    {
     "data": {
      "text/plain": [
       "0.31916540923341247"
      ]
     },
     "execution_count": 39,
     "metadata": {},
     "output_type": "execute_result"
    }
   ],
   "source": [
    "np.sqrt(0.10186655845113166)"
   ]
  },
  {
   "cell_type": "markdown",
   "id": "5c5185be-1a08-4a4a-968f-a3d758768df8",
   "metadata": {},
   "source": [
    "- __The Mean Squared Error (MSE) is another commonly used metric to evaluate the performance of regression models. It calculates the average of the squares of the differences between the predicted values and the actual values. Here's an explanation:__\n",
    "\n",
    "- __If your MSE is 0.101, it means that, on average, the square of the difference between your model's predictions and the actual values is 0.101. The unit of MSE is the square of the unit of the target variable. So if your target variable is in LPA, the unit of MSE would be (LPA)^2.__\n",
    "\n",
    "- Comparing MSE with MAE:\n",
    "\n",
    "    - __Magnitude of Errors:__ MSE penalizes larger errors more heavily than MAE because it squares the differences. This makes MSE more sensitive to outliers or large errors in the data.\n",
    "\n",
    "    - __Interpretation:__ MAE is easier to interpret since it gives you the average magnitude of errors directly, while MSE gives you the average of the squared errors, which might be harder to interpret intuitively.\n",
    "\n",
    "    - __Optimization:__ MSE is more commonly used in model training because it leads to simpler mathematical calculations and has nice analytical properties for optimization algorithms. However, MAE is more robust to outliers and may be preferred in situations where outliers are significant.\n",
    "\n",
    "    - __Sensitivity:__ MSE can be sensitive to outliers because of squaring the errors. A single large error can significantly inflate the MSE. MAE, on the other hand, treats all errors equally, making it less sensitive to outliers.\n",
    "\n",
    "In summary, MSE and MAE serve similar purposes as evaluation metrics for regression models, but they differ in how they measure and penalize errors. MSE may be preferred in certain contexts, especially in model training and optimization, but it's essential to consider the characteristics of your data and the goals of your analysis when choosing between them.\n"
   ]
  },
  {
   "cell_type": "code",
   "execution_count": 40,
   "id": "f0691b45-0d61-4cbf-bcf5-10ef334ff786",
   "metadata": {},
   "outputs": [
    {
     "name": "stdout",
     "output_type": "stream",
     "text": [
      "RMSE(Root Mean Squared Error)  0.31916540923341247\n"
     ]
    }
   ],
   "source": [
    "#RMSE - Root Mean Squared Error\n",
    "\n",
    "print('RMSE(Root Mean Squared Error) ',np.sqrt(mean_squared_error(y_test , y_pred)))"
   ]
  },
  {
   "cell_type": "code",
   "execution_count": 41,
   "id": "5308b3ee-445d-419a-83be-94baf3884506",
   "metadata": {},
   "outputs": [
    {
     "name": "stdout",
     "output_type": "stream",
     "text": [
      "R2-SCORE  0.7507685626720517\n"
     ]
    }
   ],
   "source": [
    "#R2_Score\n",
    "\n",
    "print('R2-SCORE ',r2_score(y_test , y_pred))"
   ]
  },
  {
   "cell_type": "markdown",
   "id": "76956e65-1926-4985-b0ec-b1dc31bd62ef",
   "metadata": {},
   "source": [
    "- __The R-squared (R2) score is a statistical measure that represents the proportion of the variance in the dependent variable (y) that is predictable from the independent variable(s) (X) in a regression model. Here's an explanation:__\n",
    "\n",
    "- __Range:__ The R2 score typically ranges from 0 to 1. A score of 1 indicates that the regression model perfectly predicts the dependent variable, while a score of 0 indicates that the model does not explain any of the variability in the dependent variable.\n",
    "\n",
    "- __Interpretation:__ An R2 score of, say, 0.75 means that 75% of the variance in the dependent variable can be explained by the independent variable(s) included in the model. In other words, the model accounts for 75% of the observed outcomes.\n",
    "\n",
    "- __Comparison with Baseline:__ R2 can also be interpreted as the proportion of the variance in the dependent variable that is captured by the model, relative to a simple baseline model that predicts the mean of the dependent variable for all observations. If the R2 score is 0, it means that the model performs no better than this baseline; if it's 1, it means the model perfectly predicts the observed outcomes.\n",
    "\n",
    "- __Goodness of Fit:__ R2 is often used as a measure of the goodness of fit of a regression model. However, it doesn't tell you whether the coefficient estimates and predictions are biased or unbiased, only how well the model fits the observed data."
   ]
  },
  {
   "cell_type": "code",
   "execution_count": 47,
   "id": "038bcfcb-bb11-43f6-90a6-340b0326b333",
   "metadata": {},
   "outputs": [
    {
     "name": "stdout",
     "output_type": "stream",
     "text": [
      "0.7442098406371057\n",
      "\n",
      "\n",
      "(40, 1)\n"
     ]
    }
   ],
   "source": [
    "#Adjusted R2 Score\n",
    "\n",
    "#Formula : 1 - ((1-r2)*(n-1)/(n-1-k))\n",
    "#where , r2 is original score of r2 calculated\n",
    "#n is number of test size shape in this case (40,1)\n",
    "#k is number of input based features in dataset [in this dataset it's only cgpa]\n",
    "r2 = r2_score(y_test , y_pred)\n",
    "print(1 - ((1-r2) * (40-1)/ (40-1-1)))\n",
    "print('\\n')\n",
    "print(X_test.shape)"
   ]
  },
  {
   "cell_type": "markdown",
   "id": "9ac14902-402a-4c7c-98d5-6ea7e9308df1",
   "metadata": {},
   "source": [
    "## In Adjusted R2 Score if we add an unnecessary feature to our dataset suppose like any random column in this placement dataset then it'll decrease the performance of my model and in adjusted r2 score it's to show the variability of an feature will go down lets see by an example"
   ]
  },
  {
   "cell_type": "code",
   "execution_count": 50,
   "id": "6a0bb965-34ce-4e62-877d-b9a3765cb360",
   "metadata": {},
   "outputs": [
    {
     "data": {
      "text/html": [
       "<div>\n",
       "<style scoped>\n",
       "    .dataframe tbody tr th:only-of-type {\n",
       "        vertical-align: middle;\n",
       "    }\n",
       "\n",
       "    .dataframe tbody tr th {\n",
       "        vertical-align: top;\n",
       "    }\n",
       "\n",
       "    .dataframe thead th {\n",
       "        text-align: right;\n",
       "    }\n",
       "</style>\n",
       "<table border=\"1\" class=\"dataframe\">\n",
       "  <thead>\n",
       "    <tr style=\"text-align: right;\">\n",
       "      <th></th>\n",
       "      <th>cgpa</th>\n",
       "      <th>Random</th>\n",
       "      <th>package</th>\n",
       "    </tr>\n",
       "  </thead>\n",
       "  <tbody>\n",
       "    <tr>\n",
       "      <th>0</th>\n",
       "      <td>6.89</td>\n",
       "      <td>0.511958</td>\n",
       "      <td>3.26</td>\n",
       "    </tr>\n",
       "    <tr>\n",
       "      <th>1</th>\n",
       "      <td>5.12</td>\n",
       "      <td>0.609931</td>\n",
       "      <td>1.98</td>\n",
       "    </tr>\n",
       "    <tr>\n",
       "      <th>2</th>\n",
       "      <td>7.82</td>\n",
       "      <td>0.735389</td>\n",
       "      <td>3.25</td>\n",
       "    </tr>\n",
       "    <tr>\n",
       "      <th>3</th>\n",
       "      <td>7.42</td>\n",
       "      <td>0.131154</td>\n",
       "      <td>3.67</td>\n",
       "    </tr>\n",
       "    <tr>\n",
       "      <th>4</th>\n",
       "      <td>6.94</td>\n",
       "      <td>0.117313</td>\n",
       "      <td>3.57</td>\n",
       "    </tr>\n",
       "  </tbody>\n",
       "</table>\n",
       "</div>"
      ],
      "text/plain": [
       "   cgpa    Random  package\n",
       "0  6.89  0.511958     3.26\n",
       "1  5.12  0.609931     1.98\n",
       "2  7.82  0.735389     3.25\n",
       "3  7.42  0.131154     3.67\n",
       "4  6.94  0.117313     3.57"
      ]
     },
     "execution_count": 50,
     "metadata": {},
     "output_type": "execute_result"
    }
   ],
   "source": [
    "#creating a new dataframe\n",
    "df_randm = data.copy()\n",
    "\n",
    "#creating a random feature\n",
    "df_randm['Random'] = np.random.random(200)\n",
    "\n",
    "#putting them together\n",
    "df_randm = df_randm[['cgpa' , 'Random' , 'package']]\n",
    "df_randm.head()"
   ]
  },
  {
   "cell_type": "code",
   "execution_count": 51,
   "id": "e789b7a2-d85e-4398-b992-4871fd3a1a7d",
   "metadata": {},
   "outputs": [
    {
     "data": {
      "image/png": "[encoded data removed]",
      "text/plain": [
       "<Figure size 640x480 with 1 Axes>"
      ]
     },
     "metadata": {},
     "output_type": "display_data"
    }
   ],
   "source": [
    "#plotting a graph\n",
    "sns.scatterplot(x=df_randm['Random'] , y=df_randm['package'])\n",
    "plt.xlabel('random_feature')\n",
    "plt.ylabel('Package(in lpa)');"
   ]
  },
  {
   "cell_type": "code",
   "execution_count": 52,
   "id": "6a4f60c9-160a-40f1-b46a-37513fe937f8",
   "metadata": {},
   "outputs": [],
   "source": [
    "X_rand = df_randm.drop(['package'] , axis=1)\n",
    "y_rand = df_randm['package']"
   ]
  },
  {
   "cell_type": "code",
   "execution_count": 53,
   "id": "734354b8-d49c-4c31-81e0-115ff1b44fc7",
   "metadata": {},
   "outputs": [],
   "source": [
    "from sklearn.model_selection import train_test_split\n",
    "\n",
    "x_train , x_test , y_train , y_test = train_test_split(X_rand , y_rand , test_size=0.2 , random_state=29)"
   ]
  },
  {
   "cell_type": "code",
   "execution_count": 54,
   "id": "111a1bf7-c2a1-4a7a-9318-a38d121b1b48",
   "metadata": {},
   "outputs": [],
   "source": [
    "lr_rand = LinearRegression()"
   ]
  },
  {
   "cell_type": "code",
   "execution_count": 55,
   "id": "399119bc-5bdb-4c9e-9ce3-6bc5892c0a43",
   "metadata": {},
   "outputs": [
    {
     "data": {
      "text/html": [
       "<style>#sk-container-id-2 {color: black;background-color: white;}#sk-container-id-2 pre{padding: 0;}#sk-container-id-2 div.sk-toggleable {background-color: white;}#sk-container-id-2 label.sk-toggleable__label {cursor: pointer;display: block;width: 100%;margin-bottom: 0;padding: 0.3em;box-sizing: border-box;text-align: center;}#sk-container-id-2 label.sk-toggleable__label-arrow:before {content: \"▸\";float: left;margin-right: 0.25em;color: #696969;}#sk-container-id-2 label.sk-toggleable__label-arrow:hover:before {color: black;}#sk-container-id-2 div.sk-estimator:hover label.sk-toggleable__label-arrow:before {color: black;}#sk-container-id-2 div.sk-toggleable__content {max-height: 0;max-width: 0;overflow: hidden;text-align: left;background-color: #f0f8ff;}#sk-container-id-2 div.sk-toggleable__content pre {margin: 0.2em;color: black;border-radius: 0.25em;background-color: #f0f8ff;}#sk-container-id-2 input.sk-toggleable__control:checked~div.sk-toggleable__content {max-height: 200px;max-width: 100%;overflow: auto;}#sk-container-id-2 input.sk-toggleable__control:checked~label.sk-toggleable__label-arrow:before {content: \"▾\";}#sk-container-id-2 div.sk-estimator input.sk-toggleable__control:checked~label.sk-toggleable__label {background-color: #d4ebff;}#sk-container-id-2 div.sk-label input.sk-toggleable__control:checked~label.sk-toggleable__label {background-color: #d4ebff;}#sk-container-id-2 input.sk-hidden--visually {border: 0;clip: rect(1px 1px 1px 1px);clip: rect(1px, 1px, 1px, 1px);height: 1px;margin: -1px;overflow: hidden;padding: 0;position: absolute;width: 1px;}#sk-container-id-2 div.sk-estimator {font-family: monospace;background-color: #f0f8ff;border: 1px dotted black;border-radius: 0.25em;box-sizing: border-box;margin-bottom: 0.5em;}#sk-container-id-2 div.sk-estimator:hover {background-color: #d4ebff;}#sk-container-id-2 div.sk-parallel-item::after {content: \"\";width: 100%;border-bottom: 1px solid gray;flex-grow: 1;}#sk-container-id-2 div.sk-label:hover label.sk-toggleable__label {background-color: #d4ebff;}#sk-container-id-2 div.sk-serial::before {content: \"\";position: absolute;border-left: 1px solid gray;box-sizing: border-box;top: 0;bottom: 0;left: 50%;z-index: 0;}#sk-container-id-2 div.sk-serial {display: flex;flex-direction: column;align-items: center;background-color: white;padding-right: 0.2em;padding-left: 0.2em;position: relative;}#sk-container-id-2 div.sk-item {position: relative;z-index: 1;}#sk-container-id-2 div.sk-parallel {display: flex;align-items: stretch;justify-content: center;background-color: white;position: relative;}#sk-container-id-2 div.sk-item::before, #sk-container-id-2 div.sk-parallel-item::before {content: \"\";position: absolute;border-left: 1px solid gray;box-sizing: border-box;top: 0;bottom: 0;left: 50%;z-index: -1;}#sk-container-id-2 div.sk-parallel-item {display: flex;flex-direction: column;z-index: 1;position: relative;background-color: white;}#sk-container-id-2 div.sk-parallel-item:first-child::after {align-self: flex-end;width: 50%;}#sk-container-id-2 div.sk-parallel-item:last-child::after {align-self: flex-start;width: 50%;}#sk-container-id-2 div.sk-parallel-item:only-child::after {width: 0;}#sk-container-id-2 div.sk-dashed-wrapped {border: 1px dashed gray;margin: 0 0.4em 0.5em 0.4em;box-sizing: border-box;padding-bottom: 0.4em;background-color: white;}#sk-container-id-2 div.sk-label label {font-family: monospace;font-weight: bold;display: inline-block;line-height: 1.2em;}#sk-container-id-2 div.sk-label-container {text-align: center;}#sk-container-id-2 div.sk-container {/* jupyter's `normalize.less` sets `[hidden] { display: none; }` but bootstrap.min.css set `[hidden] { display: none !important; }` so we also need the `!important` here to be able to override the default hidden behavior on the sphinx rendered scikit-learn.org. See: https://github.com/scikit-learn/scikit-learn/issues/21755 */display: inline-block !important;position: relative;}#sk-container-id-2 div.sk-text-repr-fallback {display: none;}</style><div id=\"sk-container-id-2\" class=\"sk-top-container\"><div class=\"sk-text-repr-fallback\"><pre>LinearRegression()</pre><b>In a Jupyter environment, please rerun this cell to show the HTML representation or trust the notebook. <br />On GitHub, the HTML representation is unable to render, please try loading this page with nbviewer.org.</b></div><div class=\"sk-container\" hidden><div class=\"sk-item\"><div class=\"sk-estimator sk-toggleable\"><input class=\"sk-toggleable__control sk-hidden--visually\" id=\"sk-estimator-id-2\" type=\"checkbox\" checked><label for=\"sk-estimator-id-2\" class=\"sk-toggleable__label sk-toggleable__label-arrow\">LinearRegression</label><div class=\"sk-toggleable__content\"><pre>LinearRegression()</pre></div></div></div></div></div>"
      ],
      "text/plain": [
       "LinearRegression()"
      ]
     },
     "execution_count": 55,
     "metadata": {},
     "output_type": "execute_result"
    }
   ],
   "source": [
    "lr_rand.fit(x_train , y_train)"
   ]
  },
  {
   "cell_type": "code",
   "execution_count": 57,
   "id": "148fe547-1e4d-4d39-b937-d64cdd2603ff",
   "metadata": {},
   "outputs": [],
   "source": [
    "#lr_rand.predict(x_test)"
   ]
  },
  {
   "cell_type": "code",
   "execution_count": 59,
   "id": "48cbad3d-c0fa-4d09-b3a3-9c339613e2f7",
   "metadata": {},
   "outputs": [
    {
     "data": {
      "text/plain": [
       "0.6745377144787367"
      ]
     },
     "execution_count": 59,
     "metadata": {},
     "output_type": "execute_result"
    }
   ],
   "source": [
    "y_pred = lr_rand.predict(x_test)\n",
    "r2_score(y_test , y_pred)"
   ]
  },
  {
   "cell_type": "markdown",
   "id": "dea09741-d9a5-4c6f-b67c-df3c66b20ff8",
   "metadata": {},
   "source": [
    "- __As we can clearly see that model performance have been reduced__"
   ]
  },
  {
   "cell_type": "code",
   "execution_count": 60,
   "id": "b8790e40-3b82-453f-9911-029895c0d231",
   "metadata": {},
   "outputs": [
    {
     "data": {
      "text/plain": [
       "0.6569451585046143"
      ]
     },
     "execution_count": 60,
     "metadata": {},
     "output_type": "execute_result"
    }
   ],
   "source": [
    "#adjusted r2 score\n",
    "\n",
    "1 - ((1 - r2_score(y_test , y_pred)) * (40-1)/(40-1-2))"
   ]
  },
  {
   "cell_type": "markdown",
   "id": "b47d3d59-de9f-4a95-9a99-1c6c4700ea18",
   "metadata": {},
   "source": [
    "- __As we can see the adjusted r2 score is more degraded__"
   ]
  },
  {
   "cell_type": "markdown",
   "id": "7e9824f7-dbff-435f-bd2b-1eba4dd3dc92",
   "metadata": {},
   "source": [
    "## Now we'll take an useful feature like __iq__"
   ]
  },
  {
   "cell_type": "code",
   "execution_count": 61,
   "id": "c746d8ef-4b04-453d-b5cd-0960515d286c",
   "metadata": {},
   "outputs": [],
   "source": [
    "#creating a new Dataframe\n",
    "df_iq = data.copy()\n",
    "\n",
    "#Creating iq feature\n",
    "df_iq['iq'] = df_iq['package'] + (np.random.randint(-12,12,200)/10)\n",
    "\n",
    "df_iq = df_iq[['cgpa' , 'iq' , 'package']]"
   ]
  },
  {
   "cell_type": "code",
   "execution_count": 62,
   "id": "64bdbcb3-823d-483f-b93c-e1188ca28861",
   "metadata": {},
   "outputs": [
    {
     "data": {
      "text/html": [
       "<div>\n",
       "<style scoped>\n",
       "    .dataframe tbody tr th:only-of-type {\n",
       "        vertical-align: middle;\n",
       "    }\n",
       "\n",
       "    .dataframe tbody tr th {\n",
       "        vertical-align: top;\n",
       "    }\n",
       "\n",
       "    .dataframe thead th {\n",
       "        text-align: right;\n",
       "    }\n",
       "</style>\n",
       "<table border=\"1\" class=\"dataframe\">\n",
       "  <thead>\n",
       "    <tr style=\"text-align: right;\">\n",
       "      <th></th>\n",
       "      <th>cgpa</th>\n",
       "      <th>iq</th>\n",
       "      <th>package</th>\n",
       "    </tr>\n",
       "  </thead>\n",
       "  <tbody>\n",
       "    <tr>\n",
       "      <th>85</th>\n",
       "      <td>4.79</td>\n",
       "      <td>0.28</td>\n",
       "      <td>1.48</td>\n",
       "    </tr>\n",
       "    <tr>\n",
       "      <th>119</th>\n",
       "      <td>7.39</td>\n",
       "      <td>2.75</td>\n",
       "      <td>2.65</td>\n",
       "    </tr>\n",
       "    <tr>\n",
       "      <th>25</th>\n",
       "      <td>7.28</td>\n",
       "      <td>4.55</td>\n",
       "      <td>3.65</td>\n",
       "    </tr>\n",
       "    <tr>\n",
       "      <th>33</th>\n",
       "      <td>6.35</td>\n",
       "      <td>2.73</td>\n",
       "      <td>2.73</td>\n",
       "    </tr>\n",
       "    <tr>\n",
       "      <th>143</th>\n",
       "      <td>4.85</td>\n",
       "      <td>1.74</td>\n",
       "      <td>1.54</td>\n",
       "    </tr>\n",
       "  </tbody>\n",
       "</table>\n",
       "</div>"
      ],
      "text/plain": [
       "     cgpa    iq  package\n",
       "85   4.79  0.28     1.48\n",
       "119  7.39  2.75     2.65\n",
       "25   7.28  4.55     3.65\n",
       "33   6.35  2.73     2.73\n",
       "143  4.85  1.74     1.54"
      ]
     },
     "execution_count": 62,
     "metadata": {},
     "output_type": "execute_result"
    }
   ],
   "source": [
    "df_iq.sample(5)"
   ]
  },
  {
   "cell_type": "code",
   "execution_count": 63,
   "id": "e41ae602-2704-4c80-ad56-57fbe3ee8bf0",
   "metadata": {},
   "outputs": [
    {
     "data": {
      "image/png": "[encoded data removed]",
      "text/plain": [
       "<Figure size 640x480 with 1 Axes>"
      ]
     },
     "metadata": {},
     "output_type": "display_data"
    }
   ],
   "source": [
    "#plotting a graph\n",
    "\n",
    "sns.scatterplot(x=df_iq['iq'] , y=df_iq['package'])\n",
    "plt.xlabel('iq')\n",
    "plt.ylabel('Package(in lpa)');"
   ]
  },
  {
   "cell_type": "code",
   "execution_count": 64,
   "id": "5b04ca43-869f-492c-b6f1-034cf27dd9b9",
   "metadata": {},
   "outputs": [],
   "source": [
    "X_iq = df_iq.drop(['package'] , axis=1)\n",
    "y_iq = df_iq['package']"
   ]
  },
  {
   "cell_type": "code",
   "execution_count": 65,
   "id": "e88af443-27d5-44ec-9326-7a24339428e1",
   "metadata": {},
   "outputs": [],
   "source": [
    "from sklearn.model_selection import train_test_split\n",
    "\n",
    "x_train_iq , x_test_iq , y_train_iq , y_test_iq = train_test_split(X_iq , y_iq , test_size=0.2 , random_state=32)"
   ]
  },
  {
   "cell_type": "code",
   "execution_count": 66,
   "id": "7bf0a8a0-6bfb-4157-ab1c-52d6e56bd544",
   "metadata": {},
   "outputs": [],
   "source": [
    "lr_iq = LinearRegression()"
   ]
  },
  {
   "cell_type": "code",
   "execution_count": 67,
   "id": "71336e04-b1a3-4451-acdb-0714f0b72e03",
   "metadata": {},
   "outputs": [
    {
     "data": {
      "text/html": [
       "<style>#sk-container-id-3 {color: black;background-color: white;}#sk-container-id-3 pre{padding: 0;}#sk-container-id-3 div.sk-toggleable {background-color: white;}#sk-container-id-3 label.sk-toggleable__label {cursor: pointer;display: block;width: 100%;margin-bottom: 0;padding: 0.3em;box-sizing: border-box;text-align: center;}#sk-container-id-3 label.sk-toggleable__label-arrow:before {content: \"▸\";float: left;margin-right: 0.25em;color: #696969;}#sk-container-id-3 label.sk-toggleable__label-arrow:hover:before {color: black;}#sk-container-id-3 div.sk-estimator:hover label.sk-toggleable__label-arrow:before {color: black;}#sk-container-id-3 div.sk-toggleable__content {max-height: 0;max-width: 0;overflow: hidden;text-align: left;background-color: #f0f8ff;}#sk-container-id-3 div.sk-toggleable__content pre {margin: 0.2em;color: black;border-radius: 0.25em;background-color: #f0f8ff;}#sk-container-id-3 input.sk-toggleable__control:checked~div.sk-toggleable__content {max-height: 200px;max-width: 100%;overflow: auto;}#sk-container-id-3 input.sk-toggleable__control:checked~label.sk-toggleable__label-arrow:before {content: \"▾\";}#sk-container-id-3 div.sk-estimator input.sk-toggleable__control:checked~label.sk-toggleable__label {background-color: #d4ebff;}#sk-container-id-3 div.sk-label input.sk-toggleable__control:checked~label.sk-toggleable__label {background-color: #d4ebff;}#sk-container-id-3 input.sk-hidden--visually {border: 0;clip: rect(1px 1px 1px 1px);clip: rect(1px, 1px, 1px, 1px);height: 1px;margin: -1px;overflow: hidden;padding: 0;position: absolute;width: 1px;}#sk-container-id-3 div.sk-estimator {font-family: monospace;background-color: #f0f8ff;border: 1px dotted black;border-radius: 0.25em;box-sizing: border-box;margin-bottom: 0.5em;}#sk-container-id-3 div.sk-estimator:hover {background-color: #d4ebff;}#sk-container-id-3 div.sk-parallel-item::after {content: \"\";width: 100%;border-bottom: 1px solid gray;flex-grow: 1;}#sk-container-id-3 div.sk-label:hover label.sk-toggleable__label {background-color: #d4ebff;}#sk-container-id-3 div.sk-serial::before {content: \"\";position: absolute;border-left: 1px solid gray;box-sizing: border-box;top: 0;bottom: 0;left: 50%;z-index: 0;}#sk-container-id-3 div.sk-serial {display: flex;flex-direction: column;align-items: center;background-color: white;padding-right: 0.2em;padding-left: 0.2em;position: relative;}#sk-container-id-3 div.sk-item {position: relative;z-index: 1;}#sk-container-id-3 div.sk-parallel {display: flex;align-items: stretch;justify-content: center;background-color: white;position: relative;}#sk-container-id-3 div.sk-item::before, #sk-container-id-3 div.sk-parallel-item::before {content: \"\";position: absolute;border-left: 1px solid gray;box-sizing: border-box;top: 0;bottom: 0;left: 50%;z-index: -1;}#sk-container-id-3 div.sk-parallel-item {display: flex;flex-direction: column;z-index: 1;position: relative;background-color: white;}#sk-container-id-3 div.sk-parallel-item:first-child::after {align-self: flex-end;width: 50%;}#sk-container-id-3 div.sk-parallel-item:last-child::after {align-self: flex-start;width: 50%;}#sk-container-id-3 div.sk-parallel-item:only-child::after {width: 0;}#sk-container-id-3 div.sk-dashed-wrapped {border: 1px dashed gray;margin: 0 0.4em 0.5em 0.4em;box-sizing: border-box;padding-bottom: 0.4em;background-color: white;}#sk-container-id-3 div.sk-label label {font-family: monospace;font-weight: bold;display: inline-block;line-height: 1.2em;}#sk-container-id-3 div.sk-label-container {text-align: center;}#sk-container-id-3 div.sk-container {/* jupyter's `normalize.less` sets `[hidden] { display: none; }` but bootstrap.min.css set `[hidden] { display: none !important; }` so we also need the `!important` here to be able to override the default hidden behavior on the sphinx rendered scikit-learn.org. See: https://github.com/scikit-learn/scikit-learn/issues/21755 */display: inline-block !important;position: relative;}#sk-container-id-3 div.sk-text-repr-fallback {display: none;}</style><div id=\"sk-container-id-3\" class=\"sk-top-container\"><div class=\"sk-text-repr-fallback\"><pre>LinearRegression()</pre><b>In a Jupyter environment, please rerun this cell to show the HTML representation or trust the notebook. <br />On GitHub, the HTML representation is unable to render, please try loading this page with nbviewer.org.</b></div><div class=\"sk-container\" hidden><div class=\"sk-item\"><div class=\"sk-estimator sk-toggleable\"><input class=\"sk-toggleable__control sk-hidden--visually\" id=\"sk-estimator-id-3\" type=\"checkbox\" checked><label for=\"sk-estimator-id-3\" class=\"sk-toggleable__label sk-toggleable__label-arrow\">LinearRegression</label><div class=\"sk-toggleable__content\"><pre>LinearRegression()</pre></div></div></div></div></div>"
      ],
      "text/plain": [
       "LinearRegression()"
      ]
     },
     "execution_count": 67,
     "metadata": {},
     "output_type": "execute_result"
    }
   ],
   "source": [
    "lr_iq.fit(x_train_iq , y_train_iq)"
   ]
  },
  {
   "cell_type": "code",
   "execution_count": 69,
   "id": "9bc826ee-3806-4408-bdb3-680eb65a4f75",
   "metadata": {},
   "outputs": [
    {
     "data": {
      "text/plain": [
       "0.851588662153741"
      ]
     },
     "execution_count": 69,
     "metadata": {},
     "output_type": "execute_result"
    }
   ],
   "source": [
    "#r2 score\n",
    "\n",
    "y_pred_iq  = lr_iq.predict(x_test_iq)\n",
    "r2_score(y_test_iq , y_pred_iq)"
   ]
  },
  {
   "cell_type": "markdown",
   "id": "b395ef34-0a24-4661-ac00-21404f052194",
   "metadata": {},
   "source": [
    "- __SEE NOW AFTER THE USEFUL FEATURE ADDED THEN MODEL VARIBALITY TELLING IS ALSO INCREASES__"
   ]
  },
  {
   "cell_type": "code",
   "execution_count": 70,
   "id": "aef2c5df-b9bc-4442-8774-a5d3f133f452",
   "metadata": {},
   "outputs": [
    {
     "data": {
      "text/plain": [
       "0.8435664276755648"
      ]
     },
     "execution_count": 70,
     "metadata": {},
     "output_type": "execute_result"
    }
   ],
   "source": [
    "#adjusted r2 score\n",
    "\n",
    "1 - ((1 - r2_score(y_test_iq , y_pred_iq)) * (40-1) / (40-1-2))"
   ]
  },
  {
   "cell_type": "markdown",
   "id": "455923b0-31a4-4543-8014-060646ce5391",
   "metadata": {},
   "source": [
    "- __ADJUSTED R2 SCORE IS ALSO INCREASED IT TELLS US THE IMPORTANCE OF FEATURES IN ANY MODEL__"
   ]
  },
  {
   "cell_type": "code",
   "execution_count": null,
   "id": "855a7195-97ac-49d6-babe-fd5ddd1aed09",
   "metadata": {},
   "outputs": [],
   "source": []
  }
 ],
 "metadata": {
  "kernelspec": {
   "display_name": "Python 3 (ipykernel)",
   "language": "python",
   "name": "python3"
  },
  "language_info": {
   "codemirror_mode": {
    "name": "ipython",
    "version": 3
   },
   "file_extension": ".py",
   "mimetype": "text/x-python",
   "name": "python",
   "nbconvert_exporter": "python",
   "pygments_lexer": "ipython3",
   "version": "3.11.7"
  },
  "widgets": {
   "application/vnd.jupyter.widget-state+json": {
    "state": {},
    "version_major": 2,
    "version_minor": 0
   }
  }
 },
 "nbformat": 4,
 "nbformat_minor": 5
}
